{
 "cells": [
  {
   "cell_type": "code",
   "execution_count": 1,
   "metadata": {},
   "outputs": [
    {
     "name": "stderr",
     "output_type": "stream",
     "text": [
      "\u001b[32m\u001b[1m Activating\u001b[22m\u001b[39m environment at `C:\\Users\\matth\\.julia\\environments\\CountySplit\\Project.toml`\n"
     ]
    }
   ],
   "source": [
    "using Pkg\n",
    "Pkg.activate(\"CountySplit\"; shared=true) # you'll need to make a shared environment for GerryChain for this to work!\n",
    "using GerryChain\n",
    "using Statistics\n",
    "using Serialization"
   ]
  },
  {
   "cell_type": "code",
   "execution_count": 2,
   "metadata": {},
   "outputs": [
    {
     "data": {
      "text/plain": [
       "\"538GOP_PL\""
      ]
     },
     "execution_count": 2,
     "metadata": {},
     "output_type": "execute_result"
    }
   ],
   "source": [
    "SHAPEFILE_PATH = \"./PA_VTD.json\"\n",
    "POPULATION_COL = \"TOT_POP\"\n",
    "ASSIGNMENT_COL = \"538GOP_PL\""
   ]
  },
  {
   "cell_type": "code",
   "execution_count": 3,
   "metadata": {},
   "outputs": [],
   "source": [
    "# Initialize graph and partition\n",
    "graph = BaseGraph(SHAPEFILE_PATH, POPULATION_COL, ASSIGNMENT_COL)\n",
    "partition = Partition(graph, ASSIGNMENT_COL)\n",
    "\n",
    "# Define parameters of chain (number of steps and population constraint)\n",
    "pop_constraint = PopulationConstraint(graph, POPULATION_COL, 0.02)\n",
    "num_steps = 10\n",
    "print()"
   ]
  },
  {
   "cell_type": "code",
   "execution_count": 4,
   "metadata": {},
   "outputs": [],
   "source": [
    "# Initialize Election of interest\n",
    "election = Election(\"SEN10\", [\"SEN10D\", \"SEN10R\"], graph.num_dists)\n",
    "\n",
    "# Define election-related metrics and scores\n",
    "election_metrics = [\n",
    "    vote_count(\"count_d\", election, \"SEN10D\"),\n",
    "    efficiency_gap(\"efficiency_gap\", election, \"SEN10D\"),\n",
    "    seats_won(\"seats_won\", election, \"SEN10D\"),\n",
    "    mean_median(\"mean_median\", election, \"SEN10D\")\n",
    "]\n",
    "\n",
    "scores = [\n",
    "        DistrictAggregate(\"presd\", \"PRES12D\"),\n",
    "        ElectionTracker(election, election_metrics)\n",
    "]\n",
    "\n",
    "print()"
   ]
  },
  {
   "cell_type": "code",
   "execution_count": 5,
   "metadata": {},
   "outputs": [
    {
     "name": "stdout",
     "output_type": "stream",
     "text": [
      "Running 10-step ReCom chain...\n"
     ]
    }
   ],
   "source": [
    "# Run the chain\n",
    "println(\"Running 10-step ReCom chain...\")\n",
    "chain_data = recom_chain(graph, partition, pop_constraint, num_steps, scores)\n",
    "print()"
   ]
  },
  {
   "cell_type": "markdown",
   "metadata": {},
   "source": [
    "# Score types "
   ]
  },
  {
   "cell_type": "markdown",
   "metadata": {},
   "source": [
    "### DistrictAggregate\n",
    "DistrictAggregate scores are when you sum over the attributes of the nodes in a district. We use this often to calculate say, HVAP/BVAP/VAP of a district. Below is an example of setting up a DistrictAggregate Score to calculate asian pop."
   ]
  },
  {
   "cell_type": "code",
   "execution_count": 6,
   "metadata": {},
   "outputs": [
    {
     "data": {
      "text/plain": [
       "Base.KeySet for a Dict{String,Any} with 51 entries. Keys:\n",
       "  \"ASIAN_POP\"\n",
       "  \"PRES12O\"\n",
       "  \"INTPTLAT10\"\n",
       "  \"NAME10\"\n",
       "  \"2011_PLA_1\"\n",
       "  \"INTPTLON10\"\n",
       "  \"538DEM_PL\"\n",
       "  \"SEN10D\"\n",
       "  \"BLACK_POP\"\n",
       "  \"ATG12R\"\n",
       "  \"T16PRESD\"\n",
       "  \"GOV10D\"\n",
       "  \"boundary_node\"\n",
       "  \"VTDST10\"\n",
       "  \"T16PRESR\"\n",
       "  \"USS12D\"\n",
       "  \"F2014GOVD\"\n",
       "  \"REMEDIAL_P\"\n",
       "  \"GEOID10\"\n",
       "  \"GOV\"\n",
       "  \"NATIVE_POP\"\n",
       "  \"NAMELSAD10\"\n",
       "  \"area\"\n",
       "  \"MTFCC10\"\n",
       "  \"AWATER10\"\n",
       "  ⋮"
      ]
     },
     "execution_count": 6,
     "metadata": {},
     "output_type": "execute_result"
    }
   ],
   "source": [
    "# You would probably want to see what the key for asian people pop is in the graph:\n",
    "\n",
    "keys(graph.attributes[1])  # the `1` is to inspect the attributes at node 1. "
   ]
  },
  {
   "cell_type": "code",
   "execution_count": 7,
   "metadata": {},
   "outputs": [
    {
     "data": {
      "text/plain": [
       "DistrictAggregate(\"asian\", \"ASIAN_POP\")"
      ]
     },
     "execution_count": 7,
     "metadata": {},
     "output_type": "execute_result"
    }
   ],
   "source": [
    "# how you would frame the Score\n",
    "DistrictAggregate(\"asian\", \"ASIAN_POP\")"
   ]
  },
  {
   "cell_type": "markdown",
   "metadata": {},
   "source": [
    "### DistrictScore\n",
    "DistrictScores are when you compute something about a district that is self-contained in a district. We sometimes use this kind of computation for things like computing vote shares in a district (% Dem), and when it gets slightly more involved than just simply summing attributes like DistrictAggregate does. \n",
    "\n",
    "To build a DistrictScore you have to pass in a function that will be applied to each district, and that function should take 3 arguments, even if some are unused. The function signature looks like\n",
    "   `score_fn(graph::BaseGraph, district_nodes::BitSet, district::int)`\n",
    "   \n",
    "The example below illustrates a simple example when perhaps somehow you find yourself interested in computing the number of edges within a district. "
   ]
  },
  {
   "cell_type": "code",
   "execution_count": 8,
   "metadata": {},
   "outputs": [
    {
     "data": {
      "text/plain": [
       "DistrictScore(\"edges_within_dist\", num_edges_within_dist)"
      ]
     },
     "execution_count": 8,
     "metadata": {},
     "output_type": "execute_result"
    }
   ],
   "source": [
    "function num_edges_within_dist(graph, district_nodes, district)\n",
    "    \"\"\" Computes the number of edges within each district of the plan.\n",
    "    \"\"\"\n",
    "    all_edges = []\n",
    "    for node in district_nodes, neighbor in graph.neighbors[node]\n",
    "        if neighbor in district_nodes\n",
    "            edge = graph.adj_matrix[node, neighbor]\n",
    "            push!(all_edges, edge)\n",
    "        end\n",
    "    end\n",
    "    return length(unique(all_edges))\n",
    "end\n",
    "\n",
    "# how you would formulate this score\n",
    "DistrictScore(\"edges_within_dist\", num_edges_within_dist)\n",
    "#              ^ name of score     ^ score_fn() to be applied on each district"
   ]
  },
  {
   "cell_type": "markdown",
   "metadata": {},
   "source": [
    "### PlanScore\n",
    "\n",
    "Some scores are plan-wide, for example cut edges. Many things we are interested in are implemented as PlanScores, like number of seats won by a party, mean-median score, efficiency gap etc. \n",
    "\n",
    "Below we illustrate a few examples on how to construct a PlanScore for the case when you want to compute, say, \n",
    "* the maximum number of blocks in each district.\n",
    "* a score that returns True if you have a higher number of cut edges than the previous plan, else False\n",
    "* an array of boundary nodes of the district with the highest population"
   ]
  },
  {
   "cell_type": "code",
   "execution_count": 9,
   "metadata": {},
   "outputs": [
    {
     "data": {
      "text/plain": [
       "PlanScore(\"boundary_nodes_highest_pop_dist\", boundary_nodes_highest_pop_dist)"
      ]
     },
     "execution_count": 9,
     "metadata": {},
     "output_type": "execute_result"
    }
   ],
   "source": [
    "function num_max_blocks(graph, partition)\n",
    "    \"\"\"\n",
    "    \"\"\"\n",
    "    return maximum([length(nodes) for nodes in partition.dist_nodes])\n",
    "end\n",
    "\n",
    "function higher_num_cut_edges_than_parent(graph, partition)\n",
    "    \"\"\"\n",
    "    \"\"\"\n",
    "    if partition.parent isa Partition & partition.num_cut_edges > partition.parent.num_cut_edges\n",
    "        return True\n",
    "    end\n",
    "    return False\n",
    "end\n",
    "       \n",
    "function boundary_nodes_highest_pop_dist(graph, partition)\n",
    "    \"\"\"\n",
    "    \"\"\"    \n",
    "    # get dist with highest population\n",
    "    highest_pop_dist = argmax(partition.dist_populations)\n",
    "    \n",
    "    # get all the edges \n",
    "    boundary_nodes = []\n",
    "    for node in partition.dist_nodes[highest_pop_dist], neighbor in graph.neighbors[node]\n",
    "        edge = graph.adj_matrix[node, neighbor]\n",
    "        \n",
    "        if partition.cut_edges[edge] == 1 \n",
    "            push!(boundary_nodes, node)\n",
    "        end\n",
    "    end\n",
    "    \n",
    "    return boundary_nodes\n",
    "end \n",
    "\n",
    "# how to formulate these scores\n",
    "PlanScore(\"num_max_blocks\", num_max_blocks)\n",
    "PlanScore(\"higher_num_cut_edges_than_parent\", higher_num_cut_edges_than_parent)\n",
    "PlanScore(\"boundary_nodes_highest_pop_dist\", boundary_nodes_highest_pop_dist)"
   ]
  },
  {
   "cell_type": "markdown",
   "metadata": {},
   "source": [
    "## Acceptance functions\n",
    "\n",
    "Unlike the Python GerryChain that returns True or False from its acceptance functions, acceptance functions in the Julia implementation instead return a probability of accepting a proposal. All acceptance functions take in a partition as an argument, even if unused.\n",
    "\n",
    "Illustrated are 3 acceptance functions that, respectively:\n",
    "* accept half the time\n",
    "* accepts with a probability of 0.8 if it has a higher number of cut_edges than its parent, 0.2 otherwise"
   ]
  },
  {
   "cell_type": "code",
   "execution_count": 10,
   "metadata": {},
   "outputs": [
    {
     "data": {
      "text/plain": [
       "accept_observing_parent_cut_edges (generic function with 1 method)"
      ]
     },
     "execution_count": 10,
     "metadata": {},
     "output_type": "execute_result"
    }
   ],
   "source": [
    "function accept_half_the_time_randomly(partition)\n",
    "    \"\"\" Acceptance score that accepts a new state with 50% probability\n",
    "    \"\"\"\n",
    "    return 0.5\n",
    "end\n",
    "\n",
    "function accept_observing_parent_cut_edges(partition)\n",
    "    \"\"\" Accepts if the cut edges decrease in the new state with a probability\n",
    "        of 80%, 20% otherwised\n",
    "    \"\"\"\n",
    "    if partition.parent isa Partition\n",
    "        if partition.parent.num_cut_edges > partition.num_cut_edges \n",
    "            return 0.8\n",
    "        else \n",
    "            return 0.2\n",
    "        end\n",
    "    else\n",
    "        return 1 # simply accept the very first step\n",
    "    end\n",
    "end"
   ]
  },
  {
   "cell_type": "markdown",
   "metadata": {},
   "source": [
    "### Run a chain with all of these new scores/ acceptance functions"
   ]
  },
  {
   "cell_type": "code",
   "execution_count": 11,
   "metadata": {},
   "outputs": [
    {
     "name": "stdout",
     "output_type": "stream",
     "text": [
      "Running 10-step ReCom chain...\n"
     ]
    }
   ],
   "source": [
    "scores = [\n",
    "    DistrictAggregate(\"asian\", \"ASIAN_POP\"),\n",
    "    DistrictScore(\"edges_within_dist\", num_edges_within_dist),\n",
    "    PlanScore(\"num_max_blocks\", num_max_blocks),\n",
    "    PlanScore(\"boundary_nodes_highest_pop_dist\", boundary_nodes_highest_pop_dist)\n",
    "]\n",
    "\n",
    "# Run the chain\n",
    "println(\"Running 10-step ReCom chain...\")\n",
    "num_steps = 10\n",
    "chain_data = recom_chain(graph, \n",
    "                         partition, \n",
    "                         pop_constraint, \n",
    "                         num_steps, \n",
    "                         scores, \n",
    "                         acceptance_fn=accept_observing_parent_cut_edges)\n",
    "print()"
   ]
  },
  {
   "cell_type": "markdown",
   "metadata": {},
   "source": [
    "### New! Built-in plotting"
   ]
  },
  {
   "cell_type": "code",
   "execution_count": 12,
   "metadata": {},
   "outputs": [
    {
     "data": {
      "image/png": "[encoded data removed]",
      "text/plain": [
       "PyPlot.Figure(PyObject <Figure size 640x480 with 1 Axes>)"
      ]
     },
     "metadata": {},
     "output_type": "display_data"
    },
    {
     "data": {
      "text/plain": [
       "PyObject Text(24.0, 0.5, 'asian')"
      ]
     },
     "execution_count": 12,
     "metadata": {},
     "output_type": "execute_result"
    }
   ],
   "source": [
    "score_boxplot(chain_data, \"asian\")"
   ]
  },
  {
   "cell_type": "code",
   "execution_count": 13,
   "metadata": {},
   "outputs": [
    {
     "data": {
      "image/png": "[encoded data removed]",
      "text/plain": [
       "PyPlot.Figure(PyObject <Figure size 640x480 with 1 Axes>)"
      ]
     },
     "metadata": {},
     "output_type": "display_data"
    },
    {
     "data": {
      "text/plain": [
       "PyObject Text(24.140625, 0.5, 'edges_within_dist')"
      ]
     },
     "execution_count": 13,
     "metadata": {},
     "output_type": "execute_result"
    }
   ],
   "source": [
    "score_boxplot(chain_data, \"edges_within_dist\")"
   ]
  },
  {
   "cell_type": "code",
   "execution_count": 14,
   "metadata": {},
   "outputs": [
    {
     "data": {
      "image/png": "[encoded data removed]",
      "text/plain": [
       "PyPlot.Figure(PyObject <Figure size 640x480 with 1 Axes>)"
      ]
     },
     "metadata": {},
     "output_type": "display_data"
    },
    {
     "data": {
      "text/plain": [
       "PyObject Text(0.5, 24.140625, 'num_max_blocks')"
      ]
     },
     "execution_count": 14,
     "metadata": {},
     "output_type": "execute_result"
    }
   ],
   "source": [
    "score_histogram(chain_data, \"num_max_blocks\")"
   ]
  },
  {
   "cell_type": "markdown",
   "metadata": {},
   "source": [
    "### Election scores!"
   ]
  },
  {
   "cell_type": "code",
   "execution_count": 20,
   "metadata": {},
   "outputs": [
    {
     "name": "stdout",
     "output_type": "stream",
     "text": [
      "Running 100-step ReCom chain...\n"
     ]
    }
   ],
   "source": [
    "election = Election(\"SEN12\", [\"USS12D\", \"USS12R\"], graph.num_dists)\n",
    "\n",
    "partisan_metrics = [\n",
    "  efficiency_gap(\"efficiency_gap\", election, \"USS12D\"),\n",
    "  seats_won(\"seats_won\", election, \"USS12D\"),\n",
    "  mean_median(\"mean_median\", election, \"USS12D\"),\n",
    "  vote_share(\"dem_vote_share\", election, \"USS12D\")\n",
    "]\n",
    "\n",
    "scores = [\n",
    "    ElectionTracker(election, partisan_metrics)\n",
    "]\n",
    "\n",
    "# Run the chain\n",
    "println(\"Running 100-step ReCom chain...\")\n",
    "num_steps = 100\n",
    "chain_data = recom_chain(graph, \n",
    "                         partition, \n",
    "                         pop_constraint, \n",
    "                         num_steps, \n",
    "                         scores, \n",
    "                         acceptance_fn=accept_observing_parent_cut_edges)\n",
    "print()"
   ]
  },
  {
   "cell_type": "code",
   "execution_count": 22,
   "metadata": {},
   "outputs": [
    {
     "data": {
      "image/png": "[encoded data removed]",
      "text/plain": [
       "PyPlot.Figure(PyObject <Figure size 640x480 with 1 Axes>)"
      ]
     },
     "metadata": {},
     "output_type": "display_data"
    },
    {
     "data": {
      "text/plain": [
       "PyObject Text(24.140625000000007, 0.5, 'dem_vote_share')"
      ]
     },
     "execution_count": 22,
     "metadata": {},
     "output_type": "execute_result"
    }
   ],
   "source": [
    "fake_vote_1 = rand(18)\n",
    "fake_vote_2 = rand(18)\n",
    "score_boxplot(chain_data, \"dem_vote_share\", comparison_scores=[(\"fake_enacted_1\", fake_vote_1), (\"fake_enacted_2\", fake_vote_2)])"
   ]
  },
  {
   "cell_type": "markdown",
   "metadata": {},
   "source": [
    "### New! Saving Scores"
   ]
  },
  {
   "cell_type": "code",
   "execution_count": 6,
   "metadata": {},
   "outputs": [],
   "source": [
    "serialize(\"example.jld\", chain_data)\n",
    "\n",
    "# You should have an example.jld saved in your local directory"
   ]
  },
  {
   "cell_type": "code",
   "execution_count": 7,
   "metadata": {},
   "outputs": [],
   "source": [
    "# To load the file, do this:\n",
    "chain_data = deserialize(\"example.jld\")\n",
    "print()"
   ]
  },
  {
   "cell_type": "code",
   "execution_count": 8,
   "metadata": {},
   "outputs": [],
   "source": [
    "# And if you wish to save the scores as a .csv or a .json, ...\n",
    "save_scores(\"data.csv\", chain_data)"
   ]
  },
  {
   "cell_type": "markdown",
   "metadata": {},
   "source": [
    "### Score functions that rely on some outer state"
   ]
  },
  {
   "cell_type": "markdown",
   "metadata": {},
   "source": [
    "When you specify a custom score function, the function should expect as inputs either the graph and partition objects (if it's a custom PlanScore) or the graph, district nodes, and district ID (if it's a custom DistrictScore). In practice, you might find that your score function relies on some other variables. Here's an example:\n",
    "\n",
    "Imagine that you want to write a `PlanScore` that tracks the number of county splits in a districting plan at each step of the chain. However, you want to use this score function to count county splits using county divisions from different years (say, 2000 and 2015). One way you could achieve this effect is to have two score functions:"
   ]
  },
  {
   "cell_type": "code",
   "execution_count": 16,
   "metadata": {},
   "outputs": [
    {
     "data": {
      "text/plain": [
       "2-element Array{PlanScore,1}:\n",
       " PlanScore(\"splits_2000\", county_splits_2000)\n",
       " PlanScore(\"splits_2015\", county_splits_2015)"
      ]
     },
     "execution_count": 16,
     "metadata": {},
     "output_type": "execute_result"
    }
   ],
   "source": [
    "function county_splits_2000(graph::BaseGraph, partition::Partition)\n",
    "    counties = [Set([graph.attributes[n][\"COUNTY_2000\"] for n in d]) for d in partition.dist_nodes]\n",
    "    num_splits = 0\n",
    "    for val in possible_vals\n",
    "        val_districts = 0 # number of districts that contain at least one node with this value\n",
    "        for d in dist_vals\n",
    "            if in(val, d)\n",
    "                val_districts += 1\n",
    "            end\n",
    "            if val_districts > 1 # if value appears in multiple districts, add 1 to split\n",
    "                num_splits += 1\n",
    "                break\n",
    "            end\n",
    "        end\n",
    "    end\n",
    "    return num_splits\n",
    "end\n",
    "\n",
    "\n",
    "function county_splits_2015(graph::BaseGraph, partition::Partition)\n",
    "    counties = [Set([graph.attributes[n][\"COUNTY_2015\"] for n in d]) for d in partition.dist_nodes]\n",
    "    num_splits = 0\n",
    "    for val in counties\n",
    "        val_districts = 0 # number of districts that contain at least one node with this value\n",
    "        for d in dist_vals\n",
    "            if in(val, d)\n",
    "                val_districts += 1\n",
    "            end\n",
    "            if val_districts > 1 # if value appears in multiple districts, add 1 to split\n",
    "                num_splits += 1\n",
    "                break\n",
    "            end\n",
    "        end\n",
    "    end\n",
    "    return num_splits\n",
    "end\n",
    "\n",
    "\n",
    "scores = [\n",
    "    PlanScore(\"splits_2000\", county_splits_2000),\n",
    "    PlanScore(\"splits_2015\", county_splits_2015)\n",
    "]\n"
   ]
  },
  {
   "cell_type": "markdown",
   "metadata": {},
   "source": [
    "But this seems pretty clunky! What's a better, more concise way to do this? \n",
    "\n",
    "The answer lies in the fact that Julia treats functions as first class objects! We'll write a function that returns a scoring function, like so:"
   ]
  },
  {
   "cell_type": "code",
   "execution_count": 17,
   "metadata": {},
   "outputs": [
    {
     "data": {
      "text/plain": [
       "2-element Array{PlanScore,1}:\n",
       " PlanScore(\"splits_2000\", var\"#score_fn#21\"{String}(\"COUNTY_2000\"))\n",
       " PlanScore(\"splits_2000\", var\"#score_fn#21\"{String}(\"COUNTY_2015\"))"
      ]
     },
     "execution_count": 17,
     "metadata": {},
     "output_type": "execute_result"
    }
   ],
   "source": [
    "function num_splits(name::String, county_col::String)::PlanScore\n",
    "    \"\"\" Returns a PlanScore that tracks the number of cut edges in a particular\n",
    "        plan.\n",
    "    \"\"\"\n",
    "    function score_fn(graph::BaseGraph, partition::Partition)\n",
    "        counties = [Set([graph.attributes[n][county_col] for n in d]) for d in partition.dist_nodes]\n",
    "        num_splits = 0\n",
    "        for val in counties\n",
    "            val_districts = 0 # number of districts that contain at least one node with this value\n",
    "            for d in dist_vals\n",
    "                if in(val, d)\n",
    "                    val_districts += 1\n",
    "                end\n",
    "                if val_districts > 1 # if value appears in multiple districts, add 1 to split\n",
    "                    num_splits += 1\n",
    "                    break\n",
    "                end\n",
    "            end\n",
    "        end\n",
    "        return num_splits\n",
    "    end\n",
    "    return PlanScore(name, score_fn)\n",
    "end\n",
    "\n",
    "scores = [\n",
    "    num_splits(\"splits_2000\", \"COUNTY_2000\"),\n",
    "    num_splits(\"splits_2000\", \"COUNTY_2015\")\n",
    "]\n"
   ]
  }
 ],
 "metadata": {
  "kernelspec": {
   "display_name": "Julia 1.4.2",
   "language": "julia",
   "name": "julia-1.4"
  },
  "language_info": {
   "file_extension": ".jl",
   "mimetype": "application/julia",
   "name": "julia",
   "version": "1.4.2"
  }
 },
 "nbformat": 4,
 "nbformat_minor": 4
}
